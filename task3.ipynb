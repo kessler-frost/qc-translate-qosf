{
 "metadata": {
  "language_info": {
   "codemirror_mode": {
    "name": "ipython",
    "version": 3
   },
   "file_extension": ".py",
   "mimetype": "text/x-python",
   "name": "python",
   "nbconvert_exporter": "python",
   "pygments_lexer": "ipython3",
   "version": "3.8.5-final"
  },
  "orig_nbformat": 2,
  "kernelspec": {
   "name": "python_defaultSpec_1600173435532",
   "display_name": "Python 3.8.5 64-bit ('qc': conda)"
  }
 },
 "nbformat": 4,
 "nbformat_minor": 2,
 "cells": [
  {
   "cell_type": "code",
   "execution_count": 1,
   "metadata": {},
   "outputs": [],
   "source": [
    "import cirq\n",
    "from math import pi"
   ]
  },
  {
   "cell_type": "code",
   "execution_count": 2,
   "metadata": {
    "tags": []
   },
   "outputs": [],
   "source": [
    "# Assigning qubits that will be required by the circuit\n",
    "MAX_QUBITS = 5 # We need to know this number before hand to compile an equivalent circuit\n",
    "N_QUBITS = MAX_QUBITS\n",
    "qubits = [cirq.LineQubit(i) for i in range(N_QUBITS)]"
   ]
  },
  {
   "cell_type": "code",
   "execution_count": 3,
   "metadata": {},
   "outputs": [],
   "source": [
    "# Creating a sample circuit\n",
    "circuit = cirq.Circuit()\n",
    "\n",
    "# Applying Hadamard Gate\n",
    "circuit.append([cirq.H(qubits[0])])\n",
    "circuit.append([cirq.H(qubits[1])])\n",
    "circuit.append([cirq.H(qubits[2])])\n",
    "\n",
    "# Applying CNOT Gate\n",
    "for i in range(N_QUBITS - 1):\n",
    "    circuit.append([cirq.CNOT(qubits[i], qubits[i + 1])], cirq.InsertStrategy.NEW)\n",
    "\n",
    "# Shifting phase along x axis by pi/2 radians\n",
    "phase_shift = cirq.rx(pi / 2)\n",
    "for q in qubits:\n",
    "    circuit.append([phase_shift(q)], cirq.InsertStrategy.INLINE)\n",
    "\n",
    "# Adding a measurement gate\n",
    "# for q in qubits:\n",
    "#     circuit.append([cirq.measure(q)])"
   ]
  },
  {
   "cell_type": "code",
   "execution_count": 4,
   "metadata": {
    "tags": []
   },
   "outputs": [
    {
     "output_type": "stream",
     "name": "stdout",
     "text": "0: ───H───@───────────Rx(0.5π)──────────────\n          │\n1: ───H───X───@───────Rx(0.5π)──────────────\n              │\n2: ───H───────X───@───Rx(0.5π)──────────────\n                  │\n3: ───────────────X───@──────────Rx(0.5π)───\n                      │\n4: ───────────────────X──────────Rx(0.5π)───\n"
    }
   ],
   "source": [
    "# Printing the circuit\n",
    "print(circuit)"
   ]
  },
  {
   "cell_type": "code",
   "execution_count": 5,
   "metadata": {},
   "outputs": [],
   "source": [
    "# Available gates for the new compiled circuit\n",
    "def compile_rx(qubit, theta):\n",
    "    rx = cirq.rx(theta)\n",
    "    return rx(qubit)\n",
    "\n",
    "\n",
    "def compile_rz(qubit, theta):\n",
    "    rz = cirq.rz(theta)\n",
    "    return rz(qubit)\n",
    "\n",
    "\n",
    "def compile_CZ(control_q, target_q):\n",
    "    return cirq.CZ(control_q, target_q)\n",
    "\n",
    "\n",
    "# Gates that were used by the input circuit apart from the ones above\n",
    "def compile_ry(qubit, theta):\n",
    "    return compile_rx(qubit, pi / 2), compile_rz(qubit, theta), compile_rx(qubit, -pi / 2)\n",
    "\n",
    "\n",
    "def compile_I(qubit):\n",
    "    return compile_rx(qubit, 2 * pi)\n",
    "\n",
    "\n",
    "def compile_H(qubit):\n",
    "    return compile_rz(qubit, pi / 2), compile_rx(qubit, pi / 2), compile_rz(qubit, pi / 2)\n",
    "\n",
    "\n",
    "def compile_X(qubit):\n",
    "    return compile_rx(qubit, pi)\n",
    "\n",
    "\n",
    "def compile_Y(qubit):\n",
    "    return compile_ry(qubit, pi)\n",
    "\n",
    "\n",
    "def compile_Z(qubit):\n",
    "    return compile_rz(qubit, pi)\n",
    "\n",
    "\n",
    "def compile_CNOT(control_q, target_q):\n",
    "    return compile_H(target_q), compile_CZ(control_q, target_q), compile_H(target_q)"
   ]
  },
  {
   "cell_type": "code",
   "execution_count": 6,
   "metadata": {},
   "outputs": [],
   "source": [
    "def get_compiled_ops(moment):\n",
    "    compiled_operations = []\n",
    "    \n",
    "    # For each operation in a Moment\n",
    "    for op in moment.operations:\n",
    "\n",
    "        # Retrieving which gate operation is being performed\n",
    "        gate = op.gate\n",
    "\n",
    "        # Compiling gates accordingly:\n",
    "\n",
    "        # Single qubit gates\n",
    "        if gate == cirq.I:\n",
    "            new_op = compile_I(op.qubits[0])\n",
    "\n",
    "        elif gate == cirq.H:\n",
    "            new_op = compile_H(op.qubits[0])\n",
    "\n",
    "        elif gate == cirq.X:\n",
    "            new_op = compile_X(op.qubits[0])\n",
    "\n",
    "        elif gate == cirq.Y:\n",
    "            new_op = compile_Y(op.qubits[0])\n",
    "\n",
    "        elif gate == cirq.Z:\n",
    "            new_op = compile_Z(op.qubits[0])\n",
    "        \n",
    "        # Two qubit gates\n",
    "        elif gate == cirq.CNOT:\n",
    "            new_op = compile_CNOT(op.qubits[0], op.qubits[1])\n",
    "\n",
    "        elif gate == cirq.CZ:\n",
    "            new_op = compile_CZ(op.qubits[0], op.qubits[1])\n",
    "        \n",
    "        # Single qubit rotation gates along x, y, z axis on Bloch sphere\n",
    "        # with rotation by theta radians\n",
    "        else:\n",
    "\n",
    "            # Retrieveing the value of theta\n",
    "            theta = gate.exponent * pi\n",
    "\n",
    "            if gate == cirq.rx(theta):\n",
    "                new_op = compile_rx(op.qubits[0], theta)\n",
    "\n",
    "            elif gate == cirq.ry(theta):\n",
    "                new_op = compile_ry(op.qubits[0], theta)\n",
    "\n",
    "            elif gate == cirq.rz(theta):\n",
    "                new_op = compile_rz(op.qubits[0], theta)\n",
    "\n",
    "        \n",
    "        compiled_operations.append(new_op)\n",
    "        \n",
    "    return compiled_operations"
   ]
  },
  {
   "cell_type": "code",
   "execution_count": 7,
   "metadata": {
    "tags": []
   },
   "outputs": [
    {
     "output_type": "stream",
     "name": "stdout",
     "text": "0: ───Rz(0.5π)───Rx(0.5π)───Rz(0.5π)────────────────────────────────────@───Rx(0.5π)───────────────────────────────────────────────────────────────────────────────────────────────────────────────────────────────────────────────────\n                                                                        │\n1: ───Rz(0.5π)───Rx(0.5π)───Rz(0.5π)───Rz(0.5π)───Rx(0.5π)───Rz(0.5π)───@───Rz(0.5π)───Rx(0.5π)───Rz(0.5π)───@───Rx(0.5π)──────────────────────────────────────────────────────────────────────────────────────────────────────────────\n                                                                                                             │\n2: ───Rz(0.5π)───Rx(0.5π)───Rz(0.5π)───Rz(0.5π)───Rx(0.5π)───Rz(0.5π)────────────────────────────────────────@───Rz(0.5π)───Rx(0.5π)───Rz(0.5π)───@───Rx(0.5π)─────────────────────────────────────────────────────────────────────────\n                                                                                                                                                  │\n3: ───Rz(0.5π)───Rx(0.5π)───Rz(0.5π)──────────────────────────────────────────────────────────────────────────────────────────────────────────────@───Rz(0.5π)───Rx(0.5π)───Rz(0.5π)───@───Rx(0.5π)────────────────────────────────────\n                                                                                                                                                                                       │\n4: ───Rz(0.5π)───Rx(0.5π)───Rz(0.5π)───────────────────────────────────────────────────────────────────────────────────────────────────────────────────────────────────────────────────@───Rz(0.5π)───Rx(0.5π)───Rz(0.5π)───Rx(0.5π)───\n"
    }
   ],
   "source": [
    "new_circuit = cirq.Circuit()\n",
    "# rx_shift = cirq.rx(pi)\n",
    "# circuit = cirq.Circuit([rx_shift(qubits[0])])\n",
    "for moment in circuit:\n",
    "    compiled_operations = get_compiled_ops(moment)\n",
    "    new_circuit.append(compiled_operations)\n",
    "print(new_circuit)"
   ]
  },
  {
   "source": [
    "As it can be seen, the number of moments in the input circuit was 6 but in the output circuit it is 23. This increase in the number of moments can be considered as overhead generated by our compiler. So let's see how we can decrease this number."
   ],
   "cell_type": "markdown",
   "metadata": {}
  },
  {
   "cell_type": "code",
   "execution_count": 8,
   "metadata": {
    "tags": []
   },
   "outputs": [
    {
     "output_type": "stream",
     "name": "stdout",
     "text": "Number of Moments in the input circuit:  6\nNumber of Moments in the compiled output circuit:  23\n"
    }
   ],
   "source": [
    "print(\"Number of Moments in the input circuit: \", len(circuit))\n",
    "print(\"Number of Moments in the compiled output circuit: \", len(new_circuit))"
   ]
  },
  {
   "cell_type": "code",
   "execution_count": 51,
   "metadata": {},
   "outputs": [],
   "source": [
    "# Gate combinations that can be merged to I, X, Z. In reversed order for comparison to a stack\n",
    "# More quantum circuit identities can be added here\n",
    "\n",
    "can_be_merged_to_i = [\n",
    "    [cirq.rx(-pi / 2), cirq.rz(pi), cirq.rx(0), cirq.rz(pi), cirq.rx(pi / 2)],         # equivalent to reversed --Y-Y--\n",
    "    [cirq.rz(pi), cirq.rx(-pi / 2), cirq.rz(pi), cirq.rx(3 * pi / 2)],                 # equivalent to reversed --X-Y-Z--\n",
    "    [cirq.rz(pi / 2), cirq.rx(pi / 2), cirq.rz(pi), cirq.rx(pi / 2), cirq.rz(pi / 2)]  # equivalent to reversed --H-H--\n",
    "]\n",
    "\n",
    "can_be_merged_to_x = [\n",
    "    [cirq.rz(pi / 2), cirq.rx(pi), cirq.rz(pi / 2)]                                    # equivalent to --H-Z-H--\n",
    "]\n",
    "\n",
    "can_be_merged_to_z = [\n",
    "    [cirq.rz(pi / 2), cirq.rx(pi / 2), cirq.rz(pi / 2), cirq.rx(pi), cirq.rz(pi / 2), cirq.rx(pi / 2), cirq.rz(pi / 2)]      # equivalent to --H-X-H--\n",
    "]"
   ]
  },
  {
   "cell_type": "code",
   "execution_count": 130,
   "metadata": {
    "tags": []
   },
   "outputs": [
    {
     "output_type": "execute_result",
     "data": {
      "text/plain": "0: ───Rz(0.5π)───Rx(0.5π)───Rz(0.5π)───@───Rx(0.5π)─────────────────────────────────────────────────────────────────────────────────────────────────────────────────────────────────────────────────────────────────────────────────────────────────────────────────────\n                                       │\n1: ────────────────────────────────────@───Rz(0.5π)───Rx(0.5π)───Rz(0.5π)───@───Rx(0.5π)────────────────────────────────────────────────────────────────────────────────────────────────────────────────────────────────────────────────────────────────────────────────\n                                                                            │\n2: ─────────────────────────────────────────────────────────────────────────@───Rz(0.5π)───Rx(0.5π)───Rz(0.5π)───@───Rx(0.5π)───────────────────────────────────────────────────────────────────────────────────────────────────────────────────────────────────────────\n                                                                                                                 │\n3: ──────────────────────────────────────────────────────────────────────────────────────────────────────────────@───Rz(0.5π)───Rx(0.5π)───Rz(0.5π)───Rz(0.5π)───Rx(0.5π)───Rz(0.5π)───@───Rx(0.5π)─────────────────────────────────────────────────────────────────────\n                                                                                                                                                                                       │\n4: ────────────────────────────────────────────────────────────────────────────────────────────────────────────────────────────────────────────────────────────────────────────────────@───Rz(0.5π)───Rx(0.5π)───Rz(0.5π)───Rz(0.5π)───Rx(0.5π)───Rz(0.5π)───Rx(0.5π)───",
      "text/html": "<pre style=\"overflow: auto; white-space: pre;\">0: ───Rz(0.5π)───Rx(0.5π)───Rz(0.5π)───@───Rx(0.5π)─────────────────────────────────────────────────────────────────────────────────────────────────────────────────────────────────────────────────────────────────────────────────────────────────────────────────────\n                                       │\n1: ────────────────────────────────────@───Rz(0.5π)───Rx(0.5π)───Rz(0.5π)───@───Rx(0.5π)────────────────────────────────────────────────────────────────────────────────────────────────────────────────────────────────────────────────────────────────────────────────\n                                                                            │\n2: ─────────────────────────────────────────────────────────────────────────@───Rz(0.5π)───Rx(0.5π)───Rz(0.5π)───@───Rx(0.5π)───────────────────────────────────────────────────────────────────────────────────────────────────────────────────────────────────────────\n                                                                                                                 │\n3: ──────────────────────────────────────────────────────────────────────────────────────────────────────────────@───Rz(0.5π)───Rx(0.5π)───Rz(0.5π)───Rz(0.5π)───Rx(0.5π)───Rz(0.5π)───@───Rx(0.5π)─────────────────────────────────────────────────────────────────────\n                                                                                                                                                                                       │\n4: ────────────────────────────────────────────────────────────────────────────────────────────────────────────────────────────────────────────────────────────────────────────────────@───Rz(0.5π)───Rx(0.5π)───Rz(0.5π)───Rz(0.5π)───Rx(0.5π)───Rz(0.5π)───Rx(0.5π)───</pre>"
     },
     "metadata": {},
     "execution_count": 130
    }
   ],
   "source": [
    "def merge_similar(ops):\n",
    "    \"\"\"\n",
    "\n",
    "    \"\"\"\n",
    "    opt_ops = []\n",
    "    q = ops[0].qubits[0]                                        # Since these operations are being performed on qubit \"q\"\n",
    "    i = 0\n",
    "    while i < (len(ops) - 1):\n",
    "        if type(ops[i].gate) == type(ops[i + 1].gate):\n",
    "\n",
    "            theta_1 = ops[i].gate.exponent * pi                 # theta from first rotation gate\n",
    "            theta_2 = ops[i + 1].gate.exponent * pi             # theta from second rotation gate\n",
    "\n",
    "            if (theta_1 + theta_2) % (2 * pi) == 0:             # Removing any 2*pi rotations\n",
    "                i += 2\n",
    "            \n",
    "            elif ops[i].gate == cirq.rx(theta_1):\n",
    "                opt_gate = cirq.rx(theta_1 + theta_2)\n",
    "                opt_ops.append(opt_gate(q))\n",
    "                i += 2\n",
    "            \n",
    "            else:\n",
    "                opt_gate = cirq.rz(theta_1 + theta_2)\n",
    "                opt_ops.append(opt_gate(q))\n",
    "                i += 2\n",
    "        else:\n",
    "            opt_ops.append(ops[i])\n",
    "            i += 1\n",
    "    opt_ops.append(ops[-1])\n",
    "\n",
    "    return opt_ops\n",
    "\n",
    "\n",
    "def merge_to_one(ops):\n",
    "    \"\"\"\n",
    "\n",
    "    \"\"\"\n",
    "\n",
    "    opt_ops = []\n",
    "    stack = []\n",
    "    stack_ops = []\n",
    "\n",
    "    for operation in ops:\n",
    "        opt_ops.append(operation)\n",
    "\n",
    "        while(len(opt_ops) > 0):\n",
    "            stack_ops.append(opt_ops.pop())\n",
    "            stack.append(stack_ops[-1].gate)\n",
    "\n",
    "            if stack in can_be_merged_to_i:\n",
    "                stack.clear()\n",
    "                stack_ops.clear()\n",
    "\n",
    "            elif stack in can_be_merged_to_x:\n",
    "                stack.clear()\n",
    "                stack_ops.clear()\n",
    "                X = cirq.rx(pi)\n",
    "                stack_ops.append(X(q))\n",
    "                stack.append(X)\n",
    "\n",
    "            elif stack in can_be_merged_to_z:\n",
    "                stack.clear()\n",
    "                stack_ops.clear()\n",
    "                Z = cirq.rz(pi)\n",
    "                stack_ops.append(Z(q))\n",
    "                stack.append(Z)\n",
    "        \n",
    "        stack.clear()\n",
    "        while(len(stack_ops) > 0):\n",
    "            opt_ops.append(stack_ops.pop())\n",
    "\n",
    "\n",
    "    return opt_ops\n",
    "\n",
    "\n",
    "def optimize(circuit):\n",
    "    \"\"\"\n",
    "\n",
    "    \"\"\"\n",
    "    moments_of_q = []\n",
    "    opt_circuit = cirq.Circuit()\n",
    "    opt_moq = []                                            # Optimized moments of q. Will be used to construct optimized circuit \n",
    "    \n",
    "    for q in qubits:\n",
    "        # Moments of q -> Moments where an operation was performed on qubit \"q\",\n",
    "        # (caveat: there will be 2 operations for CZ gate, one in each \"moq\" for control and target bits)\n",
    "        moq = [moment[[q]] for moment in circuit]\n",
    "        cirq.DropEmptyMoments().optimize_circuit(moq)\n",
    "        \n",
    "        ops = [moment.operations[0] for moment in moq]\n",
    "        \n",
    "        ops = merge_similar(ops)                            # Optimized Operations after merging similar gates\n",
    "        opt_ops = merge_to_one(ops)                         # Optimized Operations after merging multiple gates into a single equivalent gate\n",
    "        opt_moq.append(opt_ops)\n",
    "    \n",
    "    # Now, opt_moq still has the duplicate CZ gates which we mentioned earlier\n",
    "    # Thus:\n",
    "    size_opt_moq = len(opt_moq)                               # Also is same as len(qubits)\n",
    "\n",
    "    # for i in range(size_opt_moq):\n",
    "    #     temp_list = opt_moq[i]\n",
    "\n",
    "    #     for op in opt_moq[i]:\n",
    "    #         # Check if an operation is CZ and whether current qubit is the control qubit\n",
    "    #         if (op.gate == cirq.CZ) and (op.qubits[1] == qubits[i]):\n",
    "    #             # temp_list.remove(op)\n",
    "\n",
    "    #     opt_moq[i] = temp_list\n",
    "\n",
    "    max_moments = len(max(opt_moq, key=len))                # Maximum moments on a qubit\n",
    "\n",
    "    for m in range(max_moments):\n",
    "        opt_moment = []\n",
    "        for i in range(size_opt_moq):\n",
    "            if m < len(opt_moq[i]):\n",
    "                if :\n",
    "                else:\n",
    "                    opt_moment.append(opt_moq[i][m])        # Append \"m\"th operation from each qubits' moments\n",
    "        opt_circuit.append(opt_moment)\n",
    "\n",
    "    opt_circuit.append(opt_moq)\n",
    "    \n",
    "    return opt_circuit\n",
    "\n",
    "# optimized_circuit = optimize(new_circuit)\n",
    "# print(optimized_circuit)\n",
    "optimize(new_circuit)"
   ]
  },
  {
   "source": [
    "Now, after optimization we can see there has been an improvement, as follows:"
   ],
   "cell_type": "markdown",
   "metadata": {
    "tags": []
   }
  },
  {
   "cell_type": "code",
   "execution_count": 124,
   "metadata": {
    "tags": []
   },
   "outputs": [
    {
     "output_type": "stream",
     "name": "stdout",
     "text": "Number of Moments in the input circuit:  6\nNumber of Moments in the compiled output circuit:  23\nNumber of Moments in the optimized circuit:  24\n"
    }
   ],
   "source": [
    "print(\"Number of Moments in the input circuit: \", len(circuit))\n",
    "print(\"Number of Moments in the compiled output circuit: \", len(new_circuit))\n",
    "print(\"Number of Moments in the optimized circuit: \", len(optimized_circuit))"
   ]
  },
  {
   "cell_type": "code",
   "execution_count": 125,
   "metadata": {
    "tags": []
   },
   "outputs": [
    {
     "output_type": "stream",
     "name": "stdout",
     "text": "24\n"
    },
    {
     "output_type": "execute_result",
     "data": {
      "text/plain": "0: ───Rz(0.5π)───Rx(0.5π)───Rz(0.5π)───Rx(0.5π)───@─────────────────────────────────────────────────────────────────────────────────────────────────────────────────────────────────────────────────────────────────────────────────────────────────────────────────────────────────────────────────────────────────\n                                                  │\n1: ───────────────────────────────────────────────@───Rz(0.5π)───Rx(0.5π)───Rz(0.5π)───Rx(0.5π)───@─────────────────────────────────────────────────────────────────────────────────────────────────────────────────────────────────────────────────────────────────────────────────────────────────────────────────\n                                                                                                  │\n2: ───────────────────────────────────────────────────────────────────────────────────────────────@───Rz(0.5π)───Rx(0.5π)───Rz(0.5π)───Rx(0.5π)───@─────────────────────────────────────────────────────────────────────────────────────────────────────────────────────────────────────────────────────────────────\n                                                                                                                                                  │\n3: ───────────────────────────────────────────────────────────────────────────────────────────────────────────────────────────────────────────────@───Rz(0.5π)───Rx(0.5π)───Rz(0.5π)───Rz(0.5π)───Rx(0.5π)───Rz(0.5π)───Rx(0.5π)───@────────────────────────────────────────────────────────────────────────────────\n                                                                                                                                                                                                                                   │\n4: ────────────────────────────────────────────────────────────────────────────────────────────────────────────────────────────────────────────────────────────────────────────────────────────────────────────────────────────────@───Rz(0.5π)───Rx(0.5π)───Rz(0.5π)───Rz(0.5π)───Rx(0.5π)───Rz(0.5π)───Rx(0.5π)───",
      "text/html": "<pre style=\"overflow: auto; white-space: pre;\">0: ───Rz(0.5π)───Rx(0.5π)───Rz(0.5π)───Rx(0.5π)───@─────────────────────────────────────────────────────────────────────────────────────────────────────────────────────────────────────────────────────────────────────────────────────────────────────────────────────────────────────────────────────────────────\n                                                  │\n1: ───────────────────────────────────────────────@───Rz(0.5π)───Rx(0.5π)───Rz(0.5π)───Rx(0.5π)───@─────────────────────────────────────────────────────────────────────────────────────────────────────────────────────────────────────────────────────────────────────────────────────────────────────────────────\n                                                                                                  │\n2: ───────────────────────────────────────────────────────────────────────────────────────────────@───Rz(0.5π)───Rx(0.5π)───Rz(0.5π)───Rx(0.5π)───@─────────────────────────────────────────────────────────────────────────────────────────────────────────────────────────────────────────────────────────────────\n                                                                                                                                                  │\n3: ───────────────────────────────────────────────────────────────────────────────────────────────────────────────────────────────────────────────@───Rz(0.5π)───Rx(0.5π)───Rz(0.5π)───Rz(0.5π)───Rx(0.5π)───Rz(0.5π)───Rx(0.5π)───@────────────────────────────────────────────────────────────────────────────────\n                                                                                                                                                                                                                                   │\n4: ────────────────────────────────────────────────────────────────────────────────────────────────────────────────────────────────────────────────────────────────────────────────────────────────────────────────────────────────@───Rz(0.5π)───Rx(0.5π)───Rz(0.5π)───Rz(0.5π)───Rx(0.5π)───Rz(0.5π)───Rx(0.5π)───</pre>"
     },
     "metadata": {},
     "execution_count": 125
    }
   ],
   "source": [
    "optimize(optimized_circuit)"
   ]
  },
  {
   "cell_type": "code",
   "execution_count": null,
   "metadata": {},
   "outputs": [],
   "source": []
  }
 ]
}