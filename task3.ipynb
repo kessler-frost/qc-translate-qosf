{
 "metadata": {
  "language_info": {
   "codemirror_mode": {
    "name": "ipython",
    "version": 3
   },
   "file_extension": ".py",
   "mimetype": "text/x-python",
   "name": "python",
   "nbconvert_exporter": "python",
   "pygments_lexer": "ipython3",
   "version": "3.8.5-final"
  },
  "orig_nbformat": 2,
  "kernelspec": {
   "name": "python_defaultSpec_1600096141534",
   "display_name": "Python 3.8.5 64-bit ('qc': conda)"
  }
 },
 "nbformat": 4,
 "nbformat_minor": 2,
 "cells": [
  {
   "cell_type": "code",
   "execution_count": 1,
   "metadata": {},
   "outputs": [],
   "source": [
    "import cirq\n",
    "from math import pi"
   ]
  },
  {
   "cell_type": "code",
   "execution_count": 2,
   "metadata": {
    "tags": []
   },
   "outputs": [],
   "source": [
    "# Assigning qubits that will be required by the circuit\n",
    "MAX_QUBITS = 5 # We need to know this number before hand to compile an equivalent circuit\n",
    "N_QUBITS = MAX_QUBITS\n",
    "qubits = [cirq.LineQubit(i) for i in range(N_QUBITS)]"
   ]
  },
  {
   "cell_type": "code",
   "execution_count": 8,
   "metadata": {},
   "outputs": [],
   "source": [
    "# Creating a sample circuit\n",
    "circuit = cirq.Circuit()\n",
    "\n",
    "# Applying Hadamard Gate\n",
    "circuit.append([cirq.H(qubits[0])])\n",
    "circuit.append([cirq.H(qubits[1])])\n",
    "circuit.append([cirq.H(qubits[2])])\n",
    "\n",
    "# Applying CNOT Gate\n",
    "for i in range(N_QUBITS - 1):\n",
    "    circuit.append([cirq.CNOT(qubits[i], qubits[i + 1])], cirq.InsertStrategy.NEW)\n",
    "\n",
    "# Shifting phase along x axis by pi/2 radians\n",
    "phase_shift = cirq.rx(pi / 2)\n",
    "for q in qubits:\n",
    "    circuit.append([phase_shift(q)], cirq.InsertStrategy.INLINE)\n",
    "\n",
    "# Adding a measurement gate\n",
    "# for q in qubits:\n",
    "#     circuit.append([cirq.measure(q)])"
   ]
  },
  {
   "cell_type": "code",
   "execution_count": 4,
   "metadata": {
    "tags": []
   },
   "outputs": [
    {
     "output_type": "stream",
     "name": "stdout",
     "text": "0: ───H───@───────────Rx(0.5π)──────────────\n          │\n1: ───H───X───@───────Rx(0.5π)──────────────\n              │\n2: ───H───────X───@───Rx(0.5π)──────────────\n                  │\n3: ───────────────X───@──────────Rx(0.5π)───\n                      │\n4: ───────────────────X──────────Rx(0.5π)───\n"
    }
   ],
   "source": [
    "# Printing the circuit\n",
    "print(circuit)"
   ]
  },
  {
   "cell_type": "code",
   "execution_count": 15,
   "metadata": {},
   "outputs": [],
   "source": [
    "# Available gates for the new compiled circuit\n",
    "def compile_rx(qubit, theta):\n",
    "    rx = cirq.rx(theta)\n",
    "    return rx(qubit)\n",
    "\n",
    "\n",
    "def compile_rz(qubit, theta):\n",
    "    rz = cirq.rz(theta)\n",
    "    return rz(qubit)\n",
    "\n",
    "\n",
    "def compile_CZ(control_q, target_q):\n",
    "    return cirq.CZ(control_q, target_q)\n",
    "\n",
    "\n",
    "# Gates that were used by the input circuit apart from the ones above\n",
    "def compile_ry(qubit, theta):\n",
    "    return compile_rx(qubit, pi / 2), compile_rz(qubit, theta), compile_rx(qubit, -pi / 2)\n",
    "\n",
    "\n",
    "def compile_I(qubit):\n",
    "    return compile_rx(qubit, 2 * pi)\n",
    "\n",
    "\n",
    "def compile_H(qubit):\n",
    "    return compile_rz(qubit, pi / 2), compile_rx(qubit, pi / 2), compile_rz(qubit, pi / 2)\n",
    "\n",
    "\n",
    "def compile_X(qubit):\n",
    "    return compile_rx(qubit, pi)\n",
    "\n",
    "\n",
    "def compile_Y(qubit):\n",
    "    return compile_ry(qubit, pi)\n",
    "\n",
    "\n",
    "def compile_Z(qubit):\n",
    "    return compile_rz(qubit, pi)\n",
    "\n",
    "\n",
    "def compile_CNOT(control_q, target_q):\n",
    "    return compile_H(target_q), compile_CZ(control_q, target_q), compile_H(target_q)"
   ]
  },
  {
   "cell_type": "code",
   "execution_count": 16,
   "metadata": {},
   "outputs": [],
   "source": [
    "def get_compiled_ops(moment):\n",
    "    compiled_operations = []\n",
    "    \n",
    "    # For each operation in a Moment\n",
    "    for op in moment.operations:\n",
    "\n",
    "        # Retrieving which gate operation is being performed\n",
    "        gate = op.gate\n",
    "\n",
    "        # Compiling gates accordingly:\n",
    "\n",
    "        # Single qubit gates\n",
    "        if gate == cirq.I:\n",
    "            new_op = compile_I(op.qubits[0])\n",
    "\n",
    "        elif gate == cirq.H:\n",
    "            new_op = compile_H(op.qubits[0])\n",
    "\n",
    "        elif gate == cirq.X:\n",
    "            new_op = compile_X(op.qubits[0])\n",
    "\n",
    "        elif gate == cirq.Y:\n",
    "            new_op = compile_Y(op.qubits[0])\n",
    "\n",
    "        elif gate == cirq.Z:\n",
    "            new_op = compile_Z(op.qubits[0])\n",
    "        \n",
    "        # Two qubit gates\n",
    "        elif gate == cirq.CNOT:\n",
    "            new_op = compile_CNOT(op.qubits[0], op.qubits[1])\n",
    "\n",
    "        elif gate == cirq.CZ:\n",
    "            new_op = compile_CZ(op.qubits[0], op.qubits[1])\n",
    "        \n",
    "        # Single qubit rotation gates along x, y, z axis on Bloch sphere\n",
    "        # with rotation by theta radians\n",
    "        else:\n",
    "\n",
    "            # Retrieveing the value of theta\n",
    "            theta = gate.exponent * pi\n",
    "\n",
    "            if gate == cirq.rx(theta):\n",
    "                new_op = compile_rx(op.qubits[0], theta)\n",
    "\n",
    "            elif gate == cirq.ry(theta):\n",
    "                new_op = compile_ry(op.qubits[0], theta)\n",
    "\n",
    "            elif gate == cirq.rz(theta):\n",
    "                new_op = compile_rz(op.qubits[0], theta)\n",
    "\n",
    "        \n",
    "        compiled_operations.append(new_op)\n",
    "        \n",
    "    return compiled_operations"
   ]
  },
  {
   "cell_type": "code",
   "execution_count": 21,
   "metadata": {
    "tags": []
   },
   "outputs": [
    {
     "output_type": "stream",
     "name": "stdout",
     "text": "0: ───Rz(0.5π)───Rx(0.5π)───Rz(0.5π)────────────────────────────────────@───Rx(0.5π)───────────────────────────────────────────────────────────────────────────────────────────────────────────────────────────────────────────────────\n                                                                        │\n1: ───Rz(0.5π)───Rx(0.5π)───Rz(0.5π)───Rz(0.5π)───Rx(0.5π)───Rz(0.5π)───@───Rz(0.5π)───Rx(0.5π)───Rz(0.5π)───@───Rx(0.5π)──────────────────────────────────────────────────────────────────────────────────────────────────────────────\n                                                                                                             │\n2: ───Rz(0.5π)───Rx(0.5π)───Rz(0.5π)───Rz(0.5π)───Rx(0.5π)───Rz(0.5π)────────────────────────────────────────@───Rz(0.5π)───Rx(0.5π)───Rz(0.5π)───@───Rx(0.5π)─────────────────────────────────────────────────────────────────────────\n                                                                                                                                                  │\n3: ───Rz(0.5π)───Rx(0.5π)───Rz(0.5π)──────────────────────────────────────────────────────────────────────────────────────────────────────────────@───Rz(0.5π)───Rx(0.5π)───Rz(0.5π)───@───Rx(0.5π)────────────────────────────────────\n                                                                                                                                                                                       │\n4: ───Rz(0.5π)───Rx(0.5π)───Rz(0.5π)───────────────────────────────────────────────────────────────────────────────────────────────────────────────────────────────────────────────────@───Rz(0.5π)───Rx(0.5π)───Rz(0.5π)───Rx(0.5π)───\n"
    }
   ],
   "source": [
    "new_circuit = cirq.Circuit()\n",
    "# rx_shift = cirq.rx(pi)\n",
    "# circuit = cirq.Circuit([rx_shift(qubits[0])])\n",
    "for moment in circuit:\n",
    "    compiled_operations = get_compiled_ops(moment)\n",
    "    new_circuit.append(compiled_operations)\n",
    "print(new_circuit)"
   ]
  },
  {
   "source": [
    "As it can be seen, the number of moments in the input circuit was 6 but in the output circuit it is 23. This increase in the number of moments can be considered as overhead generated by our compiler. So let's see how we can decrease this number."
   ],
   "cell_type": "markdown",
   "metadata": {}
  },
  {
   "cell_type": "code",
   "execution_count": 22,
   "metadata": {
    "tags": []
   },
   "outputs": [
    {
     "output_type": "stream",
     "name": "stdout",
     "text": "Number of Moments in the input circuit:  6\nNumber of Moments in the compiled output circuit:  23\n"
    }
   ],
   "source": [
    "print(\"Number of Moments in the input circuit: \", len(circuit))\n",
    "print(\"Number of Moments in the compiled output circuit: \", len(new_circuit))"
   ]
  },
  {
   "cell_type": "code",
   "execution_count": 24,
   "metadata": {},
   "outputs": [],
   "source": [
    "# Gate combinations that can be merged to I\n",
    "can_be_merged_to_i = [\n",
    "    [cirq.rx(2 * pi)],                                                                 # equivalent to --X-X--\n",
    "    [cirq.rx(pi / 2), cirq.rz(pi), cirq.rx(0), cirq.rz(pi), cirq.rx(-pi / 2)],         # equivalent to --Y-Y--\n",
    "    [cirq.rz(2 * pi)],                                                                 # equivalent to --Z-Z--\n",
    "    [cirq.rx(3 * pi / 2), cirq.rz(pi), cirq.rx(-pi / 2), cirq.rz(pi / 2)],             # equivalent to --X-Y-Z--\n",
    "    [cirq.rz(pi / 2), cirq.rx(pi / 2), cirq.rz(pi), cirq.rx(pi / 2), cirq.rz(pi / 2)]  # equivalent to --H-H--\n",
    "]"
   ]
  },
  {
   "cell_type": "code",
   "execution_count": 59,
   "metadata": {
    "tags": []
   },
   "outputs": [
    {
     "output_type": "stream",
     "name": "stdout",
     "text": "[cirq.rz(np.pi*0.5), cirq.rx(np.pi*0.5), cirq.rz(np.pi*0.5), cirq.CZ, cirq.rx(np.pi*0.5)]\n[cirq.rz(np.pi*0.5), cirq.rx(np.pi*0.5), cirq.rz(np.pi*0.5), cirq.rz(np.pi*0.5), cirq.rx(np.pi*0.5), cirq.rz(np.pi*0.5), cirq.CZ, cirq.rz(np.pi*0.5), cirq.rx(np.pi*0.5), cirq.rz(np.pi*0.5), cirq.CZ, cirq.rx(np.pi*0.5)]\n[cirq.rz(np.pi*0.5), cirq.rx(np.pi*0.5), cirq.rz(np.pi*0.5), cirq.rz(np.pi*0.5), cirq.rx(np.pi*0.5), cirq.rz(np.pi*0.5), cirq.CZ, cirq.rz(np.pi*0.5), cirq.rx(np.pi*0.5), cirq.rz(np.pi*0.5), cirq.CZ, cirq.rx(np.pi*0.5)]\n[cirq.rz(np.pi*0.5), cirq.rx(np.pi*0.5), cirq.rz(np.pi*0.5), cirq.CZ, cirq.rz(np.pi*0.5), cirq.rx(np.pi*0.5), cirq.rz(np.pi*0.5), cirq.CZ, cirq.rx(np.pi*0.5)]\n[cirq.rz(np.pi*0.5), cirq.rx(np.pi*0.5), cirq.rz(np.pi*0.5), cirq.CZ, cirq.rz(np.pi*0.5), cirq.rx(np.pi*0.5), cirq.rz(np.pi*0.5), cirq.rx(np.pi*0.5)]\n"
    }
   ],
   "source": [
    "def optimize(circuit):\n",
    "    moments_of_q = []\n",
    "    \n",
    "    for q in qubits:\n",
    "        moq = [moment[[q]] for moment in circuit]               # Moments of q -> Moments where an operation was performed on qubit \"q\"\n",
    "        cirq.DropEmptyMoments().optimize_circuit(moq)\n",
    "        moments_of_q.append(moq)\n",
    "    \n",
    "    \n",
    "    for moq in moments_of_q:\n",
    "        ops = [moment.operations[0].gate for moment in moq]\n",
    "        print(ops)\n",
    "\n",
    "    return\n",
    "optimize(new_circuit)"
   ]
  },
  {
   "cell_type": "code",
   "execution_count": 60,
   "metadata": {
    "tags": []
   },
   "outputs": [
    {
     "output_type": "error",
     "ename": "AttributeError",
     "evalue": "'NoneType' object has no attribute 'gate'",
     "traceback": [
      "\u001b[0;31m---------------------------------------------------------------------------\u001b[0m",
      "\u001b[0;31mAttributeError\u001b[0m                            Traceback (most recent call last)",
      "\u001b[0;32m<ipython-input-60-9c8306b2a5f6>\u001b[0m in \u001b[0;36m<module>\u001b[0;34m\u001b[0m\n\u001b[0;32m----> 1\u001b[0;31m \u001b[0mprint\u001b[0m\u001b[0;34m(\u001b[0m\u001b[0mc\u001b[0m\u001b[0;34m[\u001b[0m\u001b[0;36m0\u001b[0m\u001b[0;34m]\u001b[0m\u001b[0;34m[\u001b[0m\u001b[0;36m0\u001b[0m\u001b[0;34m]\u001b[0m\u001b[0;34m.\u001b[0m\u001b[0mgate\u001b[0m\u001b[0;34m)\u001b[0m\u001b[0;34m\u001b[0m\u001b[0;34m\u001b[0m\u001b[0m\n\u001b[0m",
      "\u001b[0;31mAttributeError\u001b[0m: 'NoneType' object has no attribute 'gate'"
     ]
    }
   ],
   "source": []
  },
  {
   "cell_type": "code",
   "execution_count": null,
   "metadata": {},
   "outputs": [],
   "source": []
  }
 ]
}