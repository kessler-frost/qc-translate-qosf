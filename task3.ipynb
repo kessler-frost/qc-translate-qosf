{
 "metadata": {
  "language_info": {
   "codemirror_mode": {
    "name": "ipython",
    "version": 3
   },
   "file_extension": ".py",
   "mimetype": "text/x-python",
   "name": "python",
   "nbconvert_exporter": "python",
   "pygments_lexer": "ipython3",
   "version": "3.8.5-final"
  },
  "orig_nbformat": 2,
  "kernelspec": {
   "name": "python_defaultSpec_1600259323135",
   "display_name": "Python 3.8.5 64-bit ('qc': conda)"
  }
 },
 "nbformat": 4,
 "nbformat_minor": 2,
 "cells": [
  {
   "source": [
    "# Quantum Circuit Compiler\n",
    "\n",
    "This is a quantum circuit compiler and optimizer which converts any given Cirq circuit made up of the basic gates: I, S, H, X, Y, Z, RX, RY, RZ, CNOT, CZ into a combination of gates: RX, RZ, and CZ. It also optimizes if those combinations result in a net 0 change in the state of qubit or if the application of multiple gates can be merged to a single gate, for example: `--RX(pi/2)-RX(pi/2)--` is effectively `--RX(pi)--`.\n",
    "\n",
    "The compiler also supports inclusion of more gates available in Cirq as long as they can be converted to a combination of our fundamental gates. They can simply be added by implementing a `compile_GATE()` function and adding an `elif` condition during compilation for that gate.\n",
    "\n",
    "Information about how circuits and gates work in Cirq can be found [here](https://cirq.readthedocs.io/en/stable/).\n",
    "\n",
    "Note: I decided to perform this on a Jupyter Notebook as it will be easier to explain the steps than writing everything as a comment in files. Also, this notebook can easily be converted to a python file but not the other way round. So, here we go."
   ],
   "cell_type": "markdown",
   "metadata": {}
  },
  {
   "source": [
    "## Importing required libraries"
   ],
   "cell_type": "markdown",
   "metadata": {}
  },
  {
   "cell_type": "code",
   "execution_count": 1,
   "metadata": {},
   "outputs": [],
   "source": [
    "import cirq\n",
    "from math import pi"
   ]
  },
  {
   "source": [
    "## Creating a sample circuit\n",
    "\n",
    "`N_QUBITS` is the total number of qubits that will be required by the sample circuit.\n",
    "We will be creating a list of `cirq.LineQubit()` qubits to apply the circuit upon."
   ],
   "cell_type": "markdown",
   "metadata": {}
  },
  {
   "cell_type": "code",
   "execution_count": 2,
   "metadata": {
    "tags": []
   },
   "outputs": [],
   "source": [
    "# Creating qubits for the sample circuit\n",
    "N_QUBITS = 5\n",
    "qubits = [cirq.LineQubit(i) for i in range(N_QUBITS)]"
   ]
  },
  {
   "source": [
    "Creating a very basic circuit with Hadamard, RX, and CNOT gates."
   ],
   "cell_type": "markdown",
   "metadata": {}
  },
  {
   "cell_type": "code",
   "execution_count": 3,
   "metadata": {},
   "outputs": [
    {
     "output_type": "execute_result",
     "data": {
      "text/plain": "0: ───H───@───────────Rx(0.5π)──────────────\n          │\n1: ───H───X───@───────Rx(0.5π)──────────────\n              │\n2: ───H───────X───@───Rx(0.5π)──────────────\n                  │\n3: ───────────────X───@──────────Rx(0.5π)───\n                      │\n4: ───────────────────X──────────Rx(0.5π)───",
      "text/html": "<pre style=\"overflow: auto; white-space: pre;\">0: ───H───@───────────Rx(0.5π)──────────────\n          │\n1: ───H───X───@───────Rx(0.5π)──────────────\n              │\n2: ───H───────X───@───Rx(0.5π)──────────────\n                  │\n3: ───────────────X───@──────────Rx(0.5π)───\n                      │\n4: ───────────────────X──────────Rx(0.5π)───</pre>"
     },
     "metadata": {},
     "execution_count": 3
    }
   ],
   "source": [
    "# Creating a sample circuit\n",
    "input_circuit = cirq.Circuit()\n",
    "\n",
    "# Applying Hadamard Gate on first 3 qubits\n",
    "input_circuit.append([cirq.H(qubits[0])])\n",
    "input_circuit.append([cirq.H(qubits[1])])\n",
    "input_circuit.append([cirq.H(qubits[2])])\n",
    "\n",
    "# Applying CNOT Gate on consecutive qubits\n",
    "for i in range(N_QUBITS - 1):\n",
    "    input_circuit.append([cirq.CNOT(qubits[i], qubits[i + 1])])\n",
    "\n",
    "# Applying RX(pi/2) Gate on all qubits\n",
    "rx = cirq.rx(pi / 2)\n",
    "for q in qubits:\n",
    "    # InserStrategy.INLINE will insert the passed operations in a single Moment\n",
    "    input_circuit.append([rx(q)], cirq.InsertStrategy.INLINE)\n",
    "\n",
    "# Printing the circuit\n",
    "input_circuit"
   ]
  },
  {
   "source": [
    "Now, in Cirq circuits are executed on a \"moment\" by \"moment\" basis where a `moment` is a time slice. All operations sharing a `moment` will be executed at once. So the first `moment`, in our sample circuit above, consists of a Hadamard gate operation on qubits `qubit[0], qubit[1], qubit[2]`. After executing that, the next `moment` made of a CNOT gate operation on `qubit[0]` as control qubit and `qubit[1]` as target qubit will be executed and so on."
   ],
   "cell_type": "markdown",
   "metadata": {}
  },
  {
   "source": [
    "## Creating the Compiler\n",
    "Codeblock below contains the compiler functions for each supported gate. One can simply add a new gate by implementing a new compiler function `compile_GATE()` which takes in the qubits on which to apply the gate and theta if the gate changes a phase; and returns an equivalent combination of RX, RZ and CZ gates.\n",
    "\n",
    "For example, a CNOT Gate can be obtained by applying a CZ gate and surrounding the target qubit with Hadamard Gates. The function for that will be `compile_CNOT()` written below."
   ],
   "cell_type": "markdown",
   "metadata": {}
  },
  {
   "cell_type": "code",
   "execution_count": 4,
   "metadata": {},
   "outputs": [],
   "source": [
    "# Available gates for the compiled circuit\n",
    "def compile_rx(qubit, theta):\n",
    "    \"\"\"\n",
    "    --RX(theta)--\n",
    "    \"\"\"\n",
    "    rx = cirq.rx(theta)\n",
    "    return rx(qubit)\n",
    "\n",
    "\n",
    "def compile_rz(qubit, theta):\n",
    "    \"\"\"\n",
    "    --RZ(theta)--\n",
    "    \"\"\"\n",
    "    rz = cirq.rz(theta)\n",
    "    return rz(qubit)\n",
    "\n",
    "\n",
    "def compile_CZ(control_q, target_q):\n",
    "    \"\"\"\n",
    "    control_q: --@--\n",
    "                 |\n",
    "    target_q:  --@--\n",
    "    \"\"\"\n",
    "    return cirq.CZ(control_q, target_q)\n",
    "\n",
    "\n",
    "# Gates that were used by the input circuit apart from the ones above\n",
    "def compile_ry(qubit, theta):\n",
    "    \"\"\"\n",
    "    --RY(theta)-- is quivalent to\n",
    "    --RX(pi/2)-RZ(theta)-RX(-pi/2)--\n",
    "    \"\"\"\n",
    "    return compile_rx(qubit, pi / 2), compile_rz(qubit, theta), compile_rx(qubit, -pi / 2)\n",
    "\n",
    "\n",
    "def compile_I(qubit):\n",
    "    \"\"\"\n",
    "    --I-- is equivalent to\n",
    "    --RX(2*pi)-- or\n",
    "    --RZ(2*pi)--\n",
    "    \"\"\"\n",
    "    return compile_rx(qubit, 2 * pi)\n",
    "\n",
    "\n",
    "def compile_H(qubit):\n",
    "    \"\"\"\n",
    "    --H-- is equivalent to\n",
    "    --RZ(pi/2)-RX(pi/2)-RZ(pi/2)--\n",
    "    \"\"\"\n",
    "    return compile_rz(qubit, pi / 2), compile_rx(qubit, pi / 2), compile_rz(qubit, pi / 2)\n",
    "\n",
    "\n",
    "def compile_X(qubit):\n",
    "    \"\"\"\n",
    "    --X-- is equivalent to\n",
    "    --RX(pi)--\n",
    "    \"\"\"\n",
    "    return compile_rx(qubit, pi)\n",
    "\n",
    "\n",
    "def compile_Y(qubit):\n",
    "    \"\"\"\n",
    "    --Y-- is equivalent to\n",
    "    --RY(pi)--\n",
    "    \"\"\"\n",
    "    return compile_ry(qubit, pi)\n",
    "\n",
    "\n",
    "def compile_Z(qubit):\n",
    "    \"\"\"\n",
    "    --Z-- is equivalent to\n",
    "    --RZ(pi)--\n",
    "    \"\"\"\n",
    "    return compile_rz(qubit, pi)\n",
    "\n",
    "\n",
    "def compile_S(qubit):\n",
    "    \"\"\"\n",
    "    --S-- is equivalent to\n",
    "    --RZ(pi/2)--\n",
    "    \"\"\"\n",
    "    return compile_rz(qubit, pi / 2)\n",
    "\n",
    "\n",
    "def compile_CNOT(control_q, target_q):\n",
    "    \"\"\"\n",
    "    control_q: --@--\n",
    "                 |\n",
    "    target_q:  --X--\n",
    "    \n",
    "    is equivalent to\n",
    "\n",
    "    control_q: ----@----\n",
    "                   |\n",
    "    target_q:  --H-@-H--\n",
    "    \"\"\"\n",
    "    return compile_H(target_q), compile_CZ(control_q, target_q), compile_H(target_q)"
   ]
  },
  {
   "source": [
    "This method will detect the gate operation being performed in a moment and call the respective `compile_GATE()` function. It then return the compiled gate operations.\n",
    "\n",
    "More gates can be added by adding an `elif` statement here and passing the required parameters to the `compile_GATE()` function accordingly.\n",
    "\n",
    "`op.gate` returns the gate that was applied to the qubit(s) by the operation `op` and `op.qubits` returns the list of qubits upon which the operation `op` was performed. For more information on operations objects click [here](https://cirq.readthedocs.io/en/stable/generated/cirq.GateOperation.html)."
   ],
   "cell_type": "markdown",
   "metadata": {}
  },
  {
   "cell_type": "code",
   "execution_count": 5,
   "metadata": {},
   "outputs": [],
   "source": [
    "def get_compiled_ops(moment):\n",
    "    \"\"\"\n",
    "    input: cirq.Moment object\n",
    "    output: list of cirq.GateOperation objects\n",
    "\n",
    "    Replaces the operations in given moment to\n",
    "    a combination of fundamental gates:\n",
    "    RX, RZ, and CZ \n",
    "    \"\"\"\n",
    "    compiled_operations = []\n",
    "    \n",
    "    # For each operation in a Moment\n",
    "    for op in moment.operations:\n",
    "\n",
    "        # Retrieving which gate operation is being performed\n",
    "        gate = op.gate\n",
    "\n",
    "        # Compiling gates accordingly:\n",
    "        # Single qubit gates\n",
    "        if gate == cirq.I:\n",
    "            new_op = compile_I(op.qubits[0])\n",
    "\n",
    "        elif gate == cirq.H:\n",
    "            new_op = compile_H(op.qubits[0])\n",
    "\n",
    "        elif gate == cirq.X:\n",
    "            new_op = compile_X(op.qubits[0])\n",
    "\n",
    "        elif gate == cirq.Y:\n",
    "            new_op = compile_Y(op.qubits[0])\n",
    "\n",
    "        elif gate == cirq.Z:\n",
    "            new_op = compile_Z(op.qubits[0])\n",
    "        \n",
    "        elif gate == cirq.S:\n",
    "            new_op = compile_S(op.qubits[0])\n",
    "        \n",
    "        # Two qubit gates\n",
    "        elif gate == cirq.CNOT:\n",
    "            new_op = compile_CNOT(op.qubits[0], op.qubits[1])\n",
    "\n",
    "        elif gate == cirq.CZ:\n",
    "            new_op = compile_CZ(op.qubits[0], op.qubits[1])\n",
    "        \n",
    "        # Single qubit rotation gates around x, y, z axis on Bloch sphere\n",
    "        # with rotation by theta radians\n",
    "        else:\n",
    "\n",
    "            # Retrieveing the value of theta\n",
    "            theta = gate.exponent * pi\n",
    "\n",
    "            if gate == cirq.rx(theta):\n",
    "                new_op = compile_rx(op.qubits[0], theta)\n",
    "\n",
    "            elif gate == cirq.ry(theta):\n",
    "                new_op = compile_ry(op.qubits[0], theta)\n",
    "\n",
    "            elif gate == cirq.rz(theta):\n",
    "                new_op = compile_rz(op.qubits[0], theta)\n",
    "            \n",
    "            else:\n",
    "                # If it is an unrecognized gate then leave as is\n",
    "                new_op = op\n",
    "\n",
    "\n",
    "        # Add the new operation to the list of compiled operations\n",
    "        compiled_operations.append(new_op)\n",
    "        \n",
    "    return compiled_operations"
   ]
  },
  {
   "source": [
    "Compiling the circuit on a moment by moment basis."
   ],
   "cell_type": "markdown",
   "metadata": {}
  },
  {
   "cell_type": "code",
   "execution_count": 8,
   "metadata": {
    "tags": []
   },
   "outputs": [
    {
     "output_type": "execute_result",
     "data": {
      "text/plain": "0: ───Rz(0.5π)───Rx(0.5π)───Rz(0.5π)────────────────────────────────────@───Rx(0.5π)───────────────────────────────────────────────────────────────────────────────────────────────────────────────────────────────────────────────────\n                                                                        │\n1: ───Rz(0.5π)───Rx(0.5π)───Rz(0.5π)───Rz(0.5π)───Rx(0.5π)───Rz(0.5π)───@───Rz(0.5π)───Rx(0.5π)───Rz(0.5π)───@───Rx(0.5π)──────────────────────────────────────────────────────────────────────────────────────────────────────────────\n                                                                                                             │\n2: ───Rz(0.5π)───Rx(0.5π)───Rz(0.5π)───Rz(0.5π)───Rx(0.5π)───Rz(0.5π)────────────────────────────────────────@───Rz(0.5π)───Rx(0.5π)───Rz(0.5π)───@───Rx(0.5π)─────────────────────────────────────────────────────────────────────────\n                                                                                                                                                  │\n3: ───Rz(0.5π)───Rx(0.5π)───Rz(0.5π)──────────────────────────────────────────────────────────────────────────────────────────────────────────────@───Rz(0.5π)───Rx(0.5π)───Rz(0.5π)───@───Rx(0.5π)────────────────────────────────────\n                                                                                                                                                                                       │\n4: ───Rz(0.5π)───Rx(0.5π)───Rz(0.5π)───────────────────────────────────────────────────────────────────────────────────────────────────────────────────────────────────────────────────@───Rz(0.5π)───Rx(0.5π)───Rz(0.5π)───Rx(0.5π)───",
      "text/html": "<pre style=\"overflow: auto; white-space: pre;\">0: ───Rz(0.5π)───Rx(0.5π)───Rz(0.5π)────────────────────────────────────@───Rx(0.5π)───────────────────────────────────────────────────────────────────────────────────────────────────────────────────────────────────────────────────\n                                                                        │\n1: ───Rz(0.5π)───Rx(0.5π)───Rz(0.5π)───Rz(0.5π)───Rx(0.5π)───Rz(0.5π)───@───Rz(0.5π)───Rx(0.5π)───Rz(0.5π)───@───Rx(0.5π)──────────────────────────────────────────────────────────────────────────────────────────────────────────────\n                                                                                                             │\n2: ───Rz(0.5π)───Rx(0.5π)───Rz(0.5π)───Rz(0.5π)───Rx(0.5π)───Rz(0.5π)────────────────────────────────────────@───Rz(0.5π)───Rx(0.5π)───Rz(0.5π)───@───Rx(0.5π)─────────────────────────────────────────────────────────────────────────\n                                                                                                                                                  │\n3: ───Rz(0.5π)───Rx(0.5π)───Rz(0.5π)──────────────────────────────────────────────────────────────────────────────────────────────────────────────@───Rz(0.5π)───Rx(0.5π)───Rz(0.5π)───@───Rx(0.5π)────────────────────────────────────\n                                                                                                                                                                                       │\n4: ───Rz(0.5π)───Rx(0.5π)───Rz(0.5π)───────────────────────────────────────────────────────────────────────────────────────────────────────────────────────────────────────────────────@───Rz(0.5π)───Rx(0.5π)───Rz(0.5π)───Rx(0.5π)───</pre>"
     },
     "metadata": {},
     "execution_count": 8
    }
   ],
   "source": [
    "compiled_circuit = cirq.Circuit()\n",
    "\n",
    "# For each moment in input_circuit get compiled operations\n",
    "for moment in input_circuit:\n",
    "    compiled_circuit.append(get_compiled_ops(moment))\n",
    "\n",
    "# Printing the compiled circuit\n",
    "compiled_circuit"
   ]
  },
  {
   "source": [
    "In addition to the decreased visual appeal, our compiled circuit has more moments than our input circuit. This increase in the number of moments can be considered as the overhead generated by our compiler. So, let's see how we can decrease this number to restrict its impact on performance when executing the circuit."
   ],
   "cell_type": "markdown",
   "metadata": {}
  },
  {
   "cell_type": "code",
   "execution_count": 10,
   "metadata": {
    "tags": []
   },
   "outputs": [
    {
     "output_type": "stream",
     "name": "stdout",
     "text": "Number of Moments in the input circuit:  6\nNumber of Moments in the compiled output circuit:  23\n"
    }
   ],
   "source": [
    "print(\"Number of Moments in the input circuit: \", len(input_circuit))\n",
    "print(\"Number of Moments in the compiled output circuit: \", len(compiled_circuit))"
   ]
  },
  {
   "source": [],
   "cell_type": "markdown",
   "metadata": {}
  },
  {
   "cell_type": "code",
   "execution_count": 9,
   "metadata": {},
   "outputs": [],
   "source": [
    "# Gate combinations that can be merged to I, X, Z. In reversed order for comparison to a stack\n",
    "# More quantum circuit identities can be added here\n",
    "\n",
    "can_be_merged_to_i = [\n",
    "    [cirq.rx(2 * pi)],                                                                 # equivalent to --X-X--\n",
    "    [cirq.rx(-pi / 2), cirq.rz(pi), cirq.rx(0), cirq.rz(pi), cirq.rx(pi / 2)],         # equivalent to --Y-Y--\n",
    "    [cirq.rz(2 * pi)],                                                                 # equivalent to --Z-Z--\n",
    "    [cirq.rz(pi), cirq.rx(-pi / 2), cirq.rz(pi), cirq.rx(3 * pi / 2)],                 # equivalent to reversed --X-Y-Z--\n",
    "    [cirq.rz(pi / 2), cirq.rx(pi / 2), cirq.rz(pi), cirq.rx(pi / 2), cirq.rz(pi / 2)], # equivalent to --H-H--\n",
    "]\n",
    "\n",
    "can_be_merged_to_x = [\n",
    "    [cirq.rz(pi / 2), cirq.rx(pi), cirq.rz(pi / 2)]                                    # equivalent to --H-Z-H--\n",
    "]\n",
    "\n",
    "can_be_merged_to_z = [\n",
    "    [cirq.rz(pi / 2), cirq.rx(pi / 2), cirq.rz(pi / 2), cirq.rx(pi), cirq.rz(pi / 2), cirq.rx(pi / 2), cirq.rz(pi / 2)]      # equivalent to --H-X-H--\n",
    "]"
   ]
  },
  {
   "source": [
    "Optimizer functions written here."
   ],
   "cell_type": "markdown",
   "metadata": {}
  },
  {
   "cell_type": "code",
   "execution_count": 10,
   "metadata": {
    "tags": []
   },
   "outputs": [],
   "source": [
    "\n",
    "def merge_similar(ops):\n",
    "    \"\"\"\n",
    "    \"\"\"\n",
    "    opt_ops = []                                                # Optimized operations' list\n",
    "    q = ops[0].qubits[0]                                        # Since these operations are being performed on qubit \"q\"\n",
    "    i = 0\n",
    "\n",
    "    while i < (len(ops) - 1):\n",
    "        if type(ops[i].gate) == type(ops[i + 1].gate):\n",
    "\n",
    "            theta_1 = ops[i].gate.exponent * pi                 # theta from first rotation gate\n",
    "            theta_2 = ops[i + 1].gate.exponent * pi             # theta from second rotation gate\n",
    "            \n",
    "            if ops[i].gate == cirq.rx(theta_1):\n",
    "                opt_gate = cirq.rx(theta_1 + theta_2)\n",
    "                opt_ops.append(opt_gate(q))\n",
    "                i += 2\n",
    "            \n",
    "            elif ops[i].gate == cirq.rz(theta_1):\n",
    "                opt_gate = cirq.rz(theta_1 + theta_2)\n",
    "                opt_ops.append(opt_gate(q))\n",
    "                i += 2\n",
    "\n",
    "            else:\n",
    "                opt_ops.append(ops[i])                       # If two CZ gates were found touching this qubit it will simply add it and move on\n",
    "                i += 1\n",
    "        else:\n",
    "            opt_ops.append(ops[i])\n",
    "            i += 1\n",
    "        \n",
    "    opt_ops.append(ops[-1])                                  # Appending the last operation after checking for merge possibility above\n",
    "\n",
    "    return opt_ops\n",
    "\n",
    "def merge_to_one_op(ops):\n",
    "    \"\"\"\n",
    "    \n",
    "    \"\"\"\n",
    "    opt_ops = []\n",
    "    stack = []\n",
    "    stack_ops = []\n",
    "\n",
    "    for operation in ops:\n",
    "        opt_ops.append(operation)\n",
    "\n",
    "        while(len(opt_ops) > 0):\n",
    "            stack_ops.append(opt_ops.pop())\n",
    "            stack.append(stack_ops[-1].gate)\n",
    "\n",
    "            if stack in can_be_merged_to_i:\n",
    "                stack.clear()\n",
    "                stack_ops.clear()\n",
    "\n",
    "            elif stack in can_be_merged_to_x:\n",
    "                stack.clear()\n",
    "                stack_ops.clear()\n",
    "                X = cirq.rx(pi)\n",
    "                stack_ops.append(X(q))\n",
    "                stack.append(X)\n",
    "\n",
    "            elif stack in can_be_merged_to_z:\n",
    "                stack.clear()\n",
    "                stack_ops.clear()\n",
    "                Z = cirq.rz(pi)\n",
    "                stack_ops.append(Z(q))\n",
    "                stack.append(Z)\n",
    "        \n",
    "        stack.clear()\n",
    "        while(len(stack_ops) > 0):\n",
    "            opt_ops.append(stack_ops.pop())\n",
    "\n",
    "\n",
    "    return opt_ops"
   ]
  },
  {
   "cell_type": "code",
   "execution_count": 11,
   "metadata": {
    "tags": []
   },
   "outputs": [
    {
     "output_type": "execute_result",
     "data": {
      "text/plain": "0: ───Rz(0.5π)───Rx(0.5π)───Rz(0.5π)───@───Rx(0.5π)───────────────────────────────────────────────────────────────────────────────────────────────────────────────────────────────────────────────────\n                                       │\n1: ────────────────────────────────────@───Rz(0.5π)───Rx(0.5π)───Rz(0.5π)───@───Rx(0.5π)──────────────────────────────────────────────────────────────────────────────────────────────────────────────\n                                                                            │\n2: ─────────────────────────────────────────────────────────────────────────@───Rz(0.5π)───Rx(0.5π)───Rz(0.5π)───@───Rx(0.5π)─────────────────────────────────────────────────────────────────────────\n                                                                                                                 │\n3: ───Rz(0.5π)───Rx(0.5π)───Rz(0.5π)─────────────────────────────────────────────────────────────────────────────@───Rz(0.5π)───Rx(0.5π)───Rz(0.5π)───@───Rx(0.5π)────────────────────────────────────\n                                                                                                                                                      │\n4: ───Rz(0.5π)───Rx(0.5π)───Rz(0.5π)──────────────────────────────────────────────────────────────────────────────────────────────────────────────────@───Rz(0.5π)───Rx(0.5π)───Rz(0.5π)───Rx(0.5π)───",
      "text/html": "<pre style=\"overflow: auto; white-space: pre;\">0: ───Rz(0.5π)───Rx(0.5π)───Rz(0.5π)───@───Rx(0.5π)───────────────────────────────────────────────────────────────────────────────────────────────────────────────────────────────────────────────────\n                                       │\n1: ────────────────────────────────────@───Rz(0.5π)───Rx(0.5π)───Rz(0.5π)───@───Rx(0.5π)──────────────────────────────────────────────────────────────────────────────────────────────────────────────\n                                                                            │\n2: ─────────────────────────────────────────────────────────────────────────@───Rz(0.5π)───Rx(0.5π)───Rz(0.5π)───@───Rx(0.5π)─────────────────────────────────────────────────────────────────────────\n                                                                                                                 │\n3: ───Rz(0.5π)───Rx(0.5π)───Rz(0.5π)─────────────────────────────────────────────────────────────────────────────@───Rz(0.5π)───Rx(0.5π)───Rz(0.5π)───@───Rx(0.5π)────────────────────────────────────\n                                                                                                                                                      │\n4: ───Rz(0.5π)───Rx(0.5π)───Rz(0.5π)──────────────────────────────────────────────────────────────────────────────────────────────────────────────────@───Rz(0.5π)───Rx(0.5π)───Rz(0.5π)───Rx(0.5π)───</pre>"
     },
     "metadata": {},
     "execution_count": 11
    }
   ],
   "source": [
    "def optimize(circuit):\n",
    "    \"\"\"\n",
    "\n",
    "    \"\"\"\n",
    "    opt_circuit = cirq.Circuit(circuit)\n",
    "    \n",
    "    cirq.MergeSingleQubitGates(rewriter=merge_similar).optimize_circuit(opt_circuit)\n",
    "    cirq.MergeSingleQubitGates(rewriter=merge_to_one_op).optimize_circuit(opt_circuit)\n",
    "    cirq.DropEmptyMoments().optimize_circuit(opt_circuit)\n",
    "    \n",
    "    return opt_circuit\n",
    "\n",
    "optimized_circuit = optimize(compiled_circuit)\n",
    "\n",
    "optimized_circuit"
   ]
  },
  {
   "source": [
    "Now, after optimization we can see that there has been an improvement, as follows:"
   ],
   "cell_type": "markdown",
   "metadata": {
    "tags": []
   }
  },
  {
   "cell_type": "code",
   "execution_count": 12,
   "metadata": {
    "tags": []
   },
   "outputs": [
    {
     "output_type": "stream",
     "name": "stdout",
     "text": "Number of Moments in the input circuit:  6\nNumber of Moments in the compiled output circuit:  23\nNumber of Moments in the optimized circuit:  20\n"
    }
   ],
   "source": [
    "print(\"Number of Moments in the input circuit: \", len(circuit))\n",
    "print(\"Number of Moments in the compiled output circuit: \", len(compiled_circuit))\n",
    "print(\"Number of Moments in the optimized circuit: \", len(optimized_circuit))"
   ]
  },
  {
   "source": [
    "As can be seen, after basic optimizations the number of moments were decreased and the optimized circuit is less involved than before. More optimizations can be introduced by simply creating a function which accepts a list of operations on a qubit and return a list of operations on that qubit.\n",
    "\n",
    "Keep in mind that not all circuits can be improved, for example if a circuit is already simplified by the optimizer's standards then it will not result in a better circuit."
   ],
   "cell_type": "markdown",
   "metadata": {
    "tags": []
   }
  },
  {
   "cell_type": "code",
   "execution_count": 13,
   "metadata": {
    "tags": []
   },
   "outputs": [
    {
     "output_type": "stream",
     "name": "stdout",
     "text": "Number of Moments in the optimized circuit:  20\nNumber of Moments in the double optimized circuit:  20\n"
    }
   ],
   "source": [
    "print(\"Number of Moments in the optimized circuit: \", len(optimized_circuit))\n",
    "print(\"Number of Moments in the double optimized circuit: \", len(optimize(optimized_circuit)))"
   ]
  },
  {
   "cell_type": "code",
   "execution_count": null,
   "metadata": {},
   "outputs": [],
   "source": []
  }
 ]
}