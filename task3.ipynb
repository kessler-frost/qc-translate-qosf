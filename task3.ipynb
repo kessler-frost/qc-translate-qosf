{
 "metadata": {
  "language_info": {
   "codemirror_mode": {
    "name": "ipython",
    "version": 3
   },
   "file_extension": ".py",
   "mimetype": "text/x-python",
   "name": "python",
   "nbconvert_exporter": "python",
   "pygments_lexer": "ipython3",
   "version": "3.8.5-final"
  },
  "orig_nbformat": 2,
  "kernelspec": {
   "name": "python_defaultSpec_1599693282458",
   "display_name": "Python 3.8.5 64-bit ('qc': conda)"
  }
 },
 "nbformat": 4,
 "nbformat_minor": 2,
 "cells": [
  {
   "cell_type": "code",
   "execution_count": 1,
   "metadata": {},
   "outputs": [],
   "source": [
    "import cirq\n",
    "from math import pi"
   ]
  },
  {
   "cell_type": "code",
   "execution_count": 2,
   "metadata": {
    "tags": []
   },
   "outputs": [
    {
     "output_type": "stream",
     "name": "stdout",
     "text": "(0, 0)───(0, 1)───(0, 2)───(0, 3)───(0, 4)───(0, 5)───(0, 6)───(0, 7)───(0, 8)───(0, 9)───(0, 10)\n│        │        │        │        │        │        │        │        │        │        │\n│        │        │        │        │        │        │        │        │        │        │\n(1, 0)───(1, 1)───(1, 2)───(1, 3)───(1, 4)───(1, 5)───(1, 6)───(1, 7)───(1, 8)───(1, 9)───(1, 10)\n"
    }
   ],
   "source": [
    "print(cirq.google.Foxtail)"
   ]
  },
  {
   "cell_type": "code",
   "execution_count": 29,
   "metadata": {},
   "outputs": [],
   "source": [
    "# Creating a sample circuit using Line Qubits\n",
    "n_qubits = 5\n",
    "circuit = cirq.Circuit()\n",
    "qubits = [cirq.LineQubit(i) for i in range(n_qubits)]\n",
    "\n",
    "# Applying Hadamard Gate\n",
    "H = cirq.ParallelGateOperation(cirq.H, qubits)\n",
    "circuit.append([H])\n",
    "\n",
    "# Applying CNOT Gate\n",
    "for i in range(n_qubits - 1):\n",
    "    circuit.append([cirq.CNOT(qubits[i], qubits[i + 1])], cirq.InsertStrategy.NEW)\n",
    "\n",
    "# Swapping 0 and 4\n",
    "SWAP = cirq.SWAP(qubits[0], qubits[4])\n",
    "circuit.append([SWAP])\n",
    "\n",
    "# Shifting phase along x axis by pi/2 radians\n",
    "phase_shift = cirq.rx(pi)\n",
    "ROTATE = cirq.ParallelGateOperation(phase_shift, qubits)\n",
    "circuit.append([ROTATE])\n",
    "\n",
    "# Adding a measurement gate\n",
    "for q in qubits:\n",
    "    circuit.append([cirq.measure(q)])"
   ]
  },
  {
   "cell_type": "code",
   "execution_count": 30,
   "metadata": {
    "tags": []
   },
   "outputs": [
    {
     "output_type": "stream",
     "name": "stdout",
     "text": "0: ───H───@───────────────×───Rx(π)───M───\n          │               │\n1: ───H───X───@───────────┼───Rx(π)───M───\n              │           │\n2: ───H───────X───@───────┼───Rx(π)───M───\n                  │       │\n3: ───H───────────X───@───┼───Rx(π)───M───\n                      │   │\n4: ───H───────────────X───×───Rx(π)───M───\n"
    }
   ],
   "source": [
    "# Printing the circuit\n",
    "print(circuit)"
   ]
  },
  {
   "cell_type": "code",
   "execution_count": 31,
   "metadata": {
    "tags": []
   },
   "outputs": [
    {
     "output_type": "stream",
     "name": "stdout",
     "text": "H(0, 1, 2, 3, 4)\nCNOT(0, 1)\nCNOT(1, 2)\nCNOT(2, 3)\nCNOT(3, 4)\nSWAP(0, 4)\nRx(π)(0, 1, 2, 3, 4)\ncirq.MeasurementGate(1, '0', ())(0) and cirq.MeasurementGate(1, '1', ())(1) and cirq.MeasurementGate(1, '2', ())(2) and cirq.MeasurementGate(1, '3', ())(3) and cirq.MeasurementGate(1, '4', ())(4)\n"
    }
   ],
   "source": [
    "for moment in circuit:\n",
    "    print(moment)"
   ]
  },
  {
   "cell_type": "code",
   "execution_count": 32,
   "metadata": {},
   "outputs": [],
   "source": [
    "simulator = cirq.Simulator()"
   ]
  },
  {
   "cell_type": "code",
   "execution_count": 33,
   "metadata": {
    "tags": []
   },
   "outputs": [
    {
     "output_type": "stream",
     "name": "stdout",
     "text": "0=1\n1=0\n2=1\n3=1\n4=1\n"
    }
   ],
   "source": [
    "result = simulator.run(circuit)\n",
    "print(result)"
   ]
  },
  {
   "cell_type": "code",
   "execution_count": 84,
   "metadata": {
    "tags": []
   },
   "outputs": [
    {
     "output_type": "stream",
     "name": "stdout",
     "text": "0: ───Rx(0.5π)───Rz(0.5π)───M───\n"
    }
   ],
   "source": [
    "# Reinitializing for basic lower level testing\n",
    "qubit = cirq.LineQubit(0)\n",
    "circuit = cirq.Circuit()\n",
    "\n",
    "# circuit.append([cirq.H(qubit), cirq.measure(qubit)])\n",
    "rx_shift = cirq.rx(pi/2)\n",
    "rz_shift = cirq.rz(pi/2)\n",
    "circuit.append([rx_shift(qubit), rz_shift(qubit), cirq.measure(qubit)])\n",
    "print(circuit)"
   ]
  },
  {
   "cell_type": "code",
   "execution_count": 95,
   "metadata": {
    "tags": []
   },
   "outputs": [
    {
     "output_type": "stream",
     "name": "stdout",
     "text": "0=1\n"
    }
   ],
   "source": [
    "result = simulator.run(circuit)\n",
    "print(result)"
   ]
  },
  {
   "cell_type": "code",
   "execution_count": null,
   "metadata": {},
   "outputs": [],
   "source": []
  },
  {
   "cell_type": "code",
   "execution_count": null,
   "metadata": {},
   "outputs": [],
   "source": []
  }
 ]
}