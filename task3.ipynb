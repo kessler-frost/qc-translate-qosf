{
 "metadata": {
  "language_info": {
   "codemirror_mode": {
    "name": "ipython",
    "version": 3
   },
   "file_extension": ".py",
   "mimetype": "text/x-python",
   "name": "python",
   "nbconvert_exporter": "python",
   "pygments_lexer": "ipython3",
   "version": "3.8.5-final"
  },
  "orig_nbformat": 2,
  "kernelspec": {
   "name": "python_defaultSpec_1600096141534",
   "display_name": "Python 3.8.5 64-bit ('qc': conda)"
  }
 },
 "nbformat": 4,
 "nbformat_minor": 2,
 "cells": [
  {
   "cell_type": "code",
   "execution_count": 106,
   "metadata": {},
   "outputs": [],
   "source": [
    "import cirq\n",
    "from math import pi"
   ]
  },
  {
   "cell_type": "code",
   "execution_count": 107,
   "metadata": {
    "tags": []
   },
   "outputs": [],
   "source": [
    "# Assigning qubits that will be required by the circuit\n",
    "MAX_QUBITS = 5 # We need to know this number before hand to compile an equivalent circuit\n",
    "N_QUBITS = MAX_QUBITS\n",
    "circuit = cirq.Circuit()\n",
    "qubits = [cirq.LineQubit(i) for i in range(N_QUBITS)]"
   ]
  },
  {
   "cell_type": "code",
   "execution_count": 108,
   "metadata": {},
   "outputs": [],
   "source": [
    "# Creating a sample circuit\n",
    "\n",
    "# Applying Hadamard Gate\n",
    "circuit.append([cirq.H(qubits[0])])\n",
    "circuit.append([cirq.H(qubits[1])])\n",
    "circuit.append([cirq.H(qubits[2])])\n",
    "\n",
    "# Applying CNOT Gate\n",
    "for i in range(n_qubits - 1):\n",
    "    circuit.append([cirq.CNOT(qubits[i], qubits[i + 1])], cirq.InsertStrategy.NEW)\n",
    "\n",
    "# Swapping 0 and 4\n",
    "SWAP = cirq.SWAP(qubits[0], qubits[4])\n",
    "circuit.append([SWAP])\n",
    "\n",
    "# Shifting phase along x axis by pi/2 radians\n",
    "phase_shift = cirq.rx(pi)\n",
    "ROTATE = cirq.ParallelGateOperation(phase_shift, qubits)\n",
    "circuit.append([ROTATE])\n",
    "\n",
    "# Adding a measurement gate\n",
    "# for q in qubits:\n",
    "#     circuit.append([cirq.measure(q)])"
   ]
  },
  {
   "cell_type": "code",
   "execution_count": 109,
   "metadata": {
    "tags": []
   },
   "outputs": [
    {
     "output_type": "stream",
     "name": "stdout",
     "text": "0: ───H───@───────────────×───Rx(π)───\n          │               │\n1: ───H───X───@───────────┼───Rx(π)───\n              │           │\n2: ───H───────X───@───────┼───Rx(π)───\n                  │       │\n3: ───────────────X───@───┼───Rx(π)───\n                      │   │\n4: ───────────────────X───×───Rx(π)───\n"
    }
   ],
   "source": [
    "# Printing the circuit\n",
    "print(circuit)"
   ]
  },
  {
   "cell_type": "code",
   "execution_count": 170,
   "metadata": {},
   "outputs": [],
   "source": [
    "def compile_moment(moment):\n",
    "    compiled_operations = []\n",
    "    for op in moment.operations:\n",
    "        # print(op)\n",
    "\n",
    "        gate = str(op).split(\"(\")[0]\n",
    "        on_qubits = [int(s) for s in str(op) if s.isdigit()]\n",
    "        if gate == 'I':\n",
    "            new_op = compile_I(on_qubits)\n",
    "        elif gate == 'H':\n",
    "            new_op = compile_H(on_qubits)\n",
    "        elif gate == 'X':\n",
    "            new_op = compile_X(on_qubits)\n",
    "        elif gate == 'Y':\n",
    "            new_op = compile_Y(on_qubits)\n",
    "        elif gate == 'Z':\n",
    "            new_op = compile_Z(on_qubits)\n",
    "        elif gate == 'Rx':\n",
    "            new_op = compile_rx(on_qubits)\n",
    "        elif gate == 'Ry':\n",
    "            new_op = compile_ry(on_qubits)\n",
    "        elif gate == 'Rz':\n",
    "            new_op = compile_rz(on_qubits)\n",
    "        elif gate == 'CNOT':\n",
    "            new_op = compile_CNOT(on_qubits)\n",
    "        elif gate == 'CZ':\n",
    "            new_op = compile_CZ(on_qubits)\n",
    "        \n",
    "        compiled_operations.append(new_op)\n",
    "    return compiled_operations"
   ]
  },
  {
   "cell_type": "code",
   "execution_count": 171,
   "metadata": {
    "tags": []
   },
   "outputs": [
    {
     "output_type": "stream",
     "name": "stdout",
     "text": "H\nH\nH\nCNOT\nCNOT\nCNOT\nCNOT\n"
    }
   ],
   "source": [
    "new_circuit = cirq.Circuit()\n",
    "for moment in circuit:\n",
    "    new_moment = compile_moment(moment)\n",
    "    new_circuit.append(new_moment)\n",
    "# print(new_circuit)"
   ]
  },
  {
   "cell_type": "code",
   "execution_count": null,
   "metadata": {},
   "outputs": [],
   "source": []
  }
 ]
}