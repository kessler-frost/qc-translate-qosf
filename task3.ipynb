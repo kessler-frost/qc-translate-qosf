{
 "metadata": {
  "language_info": {
   "codemirror_mode": {
    "name": "ipython",
    "version": 3
   },
   "file_extension": ".py",
   "mimetype": "text/x-python",
   "name": "python",
   "nbconvert_exporter": "python",
   "pygments_lexer": "ipython3",
   "version": "3.8.5-final"
  },
  "orig_nbformat": 2,
  "kernelspec": {
   "name": "python_defaultSpec_1599693282458",
   "display_name": "Python 3.8.5 64-bit ('qc': conda)"
  }
 },
 "nbformat": 4,
 "nbformat_minor": 2,
 "cells": [
  {
   "cell_type": "code",
   "execution_count": 1,
   "metadata": {},
   "outputs": [],
   "source": [
    "import cirq\n",
    "from math import pi"
   ]
  },
  {
   "cell_type": "code",
   "execution_count": 2,
   "metadata": {
    "tags": []
   },
   "outputs": [
    {
     "output_type": "stream",
     "name": "stdout",
     "text": "(0, 0)───(0, 1)───(0, 2)───(0, 3)───(0, 4)───(0, 5)───(0, 6)───(0, 7)───(0, 8)───(0, 9)───(0, 10)\n│        │        │        │        │        │        │        │        │        │        │\n│        │        │        │        │        │        │        │        │        │        │\n(1, 0)───(1, 1)───(1, 2)───(1, 3)───(1, 4)───(1, 5)───(1, 6)───(1, 7)───(1, 8)───(1, 9)───(1, 10)\n"
    }
   ],
   "source": [
    "print(cirq.google.Foxtail)"
   ]
  },
  {
   "cell_type": "code",
   "execution_count": 4,
   "metadata": {},
   "outputs": [],
   "source": [
    "# Creating a sample circuit\n",
    "n_qubits = 5\n",
    "circuit = cirq.Circuit()\n",
    "qubits = [cirq.LineQubit(i) for i in range(n_qubits)]\n",
    "\n",
    "# Applying Hadamard Gate\n",
    "H = cirq.ParallelGateOperation(cirq.H, qubits)\n",
    "circuit.append([H])\n",
    "\n",
    "# Applying CNOT Gate\n",
    "for i in range(n_qubits - 1):\n",
    "    circuit.append([cirq.CNOT(qubits[i], qubits[i + 1])], cirq.InsertStrategy.NEW)\n",
    "\n",
    "# Swapping 0 and 4\n",
    "SWAP = cirq.SWAP(qubits[0], qubits[4])\n",
    "circuit.append([SWAP])\n",
    "\n",
    "# Shifting phase along x axis by pi/2 radians\n",
    "phase_shift = cirq.rx(pi)\n",
    "ROTATE = cirq.ParallelGateOperation(phase_shift, qubits)\n",
    "circuit.append([ROTATE])"
   ]
  },
  {
   "cell_type": "code",
   "execution_count": 5,
   "metadata": {
    "tags": []
   },
   "outputs": [
    {
     "output_type": "stream",
     "name": "stdout",
     "text": "0: ───H───@───────────────×───Rx(π)───\n          │               │\n1: ───H───X───@───────────┼───Rx(π)───\n              │           │\n2: ───H───────X───@───────┼───Rx(π)───\n                  │       │\n3: ───H───────────X───@───┼───Rx(π)───\n                      │   │\n4: ───H───────────────X───×───Rx(π)───\n"
    }
   ],
   "source": [
    "# Printing the circuit\n",
    "print(circuit)"
   ]
  },
  {
   "cell_type": "code",
   "execution_count": null,
   "metadata": {},
   "outputs": [],
   "source": []
  }
 ]
}